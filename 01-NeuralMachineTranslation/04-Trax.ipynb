{
 "cells": [
  {
   "cell_type": "markdown",
   "source": [
    "# Stack Semantics in Trax: Ungraded Lab\r\n",
    "\r\n",
    "In this ungraded lab, we will explain the stack semantics in Trax. This will help in understanding how to use layers like `Select` and `Residual` which operate on elements in the stack.\r\n",
    "\r\n",
    "If you've taken a computer science class before, you will recall that a stack is a data structure that follows the Last In, First Out (LIFO) principle. That is, whatever is the latest element that is pushed into the stack will also be the first one to be popped out. If you're not yet familiar with stacks, then you may find this [short tutorial](https://www.tutorialspoint.com/python_data_structure/python_stack.htm) useful. In a nutshell, all you really need to remember is it puts elements one on top of the other. You should be aware of what is on top of the stack to know which element you will be popping first. You will see this in the discussions below. Let's get started!"
   ],
   "metadata": {}
  },
  {
   "cell_type": "code",
   "execution_count": 1,
   "source": [
    "import numpy as np              # regular ol' numpy\r\n",
    "from trax import layers as tl   # core building block\r\n",
    "from trax import shapes         # data signatures: dimensionality and type\r\n",
    "from trax import fastmath       # uses jax, offers numpy on steroids"
   ],
   "outputs": [
    {
     "output_type": "error",
     "ename": "ModuleNotFoundError",
     "evalue": "No module named 'trax'",
     "traceback": [
      "\u001b[1;31m---------------------------------------------------------------------------\u001b[0m",
      "\u001b[1;31mModuleNotFoundError\u001b[0m                       Traceback (most recent call last)",
      "Cell \u001b[1;32mIn[1], line 2\u001b[0m\n\u001b[0;32m      1\u001b[0m \u001b[38;5;28;01mimport\u001b[39;00m \u001b[38;5;21;01mnumpy\u001b[39;00m \u001b[38;5;28;01mas\u001b[39;00m \u001b[38;5;21;01mnp\u001b[39;00m              \u001b[38;5;66;03m# regular ol' numpy\u001b[39;00m\n\u001b[1;32m----> 2\u001b[0m \u001b[38;5;28;01mfrom\u001b[39;00m \u001b[38;5;21;01mtrax\u001b[39;00m \u001b[38;5;28;01mimport\u001b[39;00m layers \u001b[38;5;28;01mas\u001b[39;00m tl   \u001b[38;5;66;03m# core building block\u001b[39;00m\n\u001b[0;32m      3\u001b[0m \u001b[38;5;28;01mfrom\u001b[39;00m \u001b[38;5;21;01mtrax\u001b[39;00m \u001b[38;5;28;01mimport\u001b[39;00m shapes         \u001b[38;5;66;03m# data signatures: dimensionality and type\u001b[39;00m\n\u001b[0;32m      4\u001b[0m \u001b[38;5;28;01mfrom\u001b[39;00m \u001b[38;5;21;01mtrax\u001b[39;00m \u001b[38;5;28;01mimport\u001b[39;00m fastmath       \u001b[38;5;66;03m# uses jax, offers numpy on steroids\u001b[39;00m\n",
      "\u001b[1;31mModuleNotFoundError\u001b[0m: No module named 'trax'"
     ]
    }
   ],
   "metadata": {}
  },
  {
   "cell_type": "markdown",
   "source": [
    "## 1. The tl.Serial Combinator is Stack Oriented.\r\n",
    "\r\n",
    "To understand how stack-orientation works in [Trax](https://trax-ml.readthedocs.io/en/latest/) most times one will be using the `Serial` layer. In order to explain the way stack orientation works we will define two simple `Function` layers: 1) Addition and 2) Multiplication.\r\n",
    "\r\n",
    "Suppose we want to make the simple calculation (3 + 4) * 15 + 3. `Serial` will perform the calculations in the following manner `3` `4` `add` `15` `mul` `3` `add`. The steps of the calculation are shown in the table below. The first column shows the operations made on the stack and the second column the output of those operations. **Moreover, the rightmost element in the second column represents the top of the stack** (e.g. in the second row, `Push(3)` pushes `3 ` on top of the stack and `4` is now under it). In the case of operations such as `add` or `mul`, we will need to `pop` the elements to operate before making the operation. That is the reason why inside `add` you will find two `pop` operations, meaning that we will pop the two elements at the top of the stack and sum them. Then, the result is pushed back to the top of the stack.\r\n",
    "\r\n",
    "<div style=\"text-align:center\" width=\"50px\"><img src=\"images/Stack1.png\" /></div>\r\n",
    "\r\n",
    "After processing all, the stack contains 108 which is the answer to our simple computation.\r\n",
    "\r\n",
    "From this, the following can be concluded: a stack-based layer has only one way to handle data, by taking one piece of data from atop the stack, termed popping, and putting data back atop the stack, termed pushing. Any expression that can be written conventionally, can be written in this form and thus be amenable to being interpreted by a stack-oriented layer like `Serial`.\r\n",
    "\r\n",
    "### Coding the example in the table:\r\n",
    "\r\n",
    "**Defining addition**"
   ],
   "metadata": {}
  },
  {
   "cell_type": "code",
   "execution_count": 2,
   "source": [
    "def Addition():\r\n",
    "    layer_name = \"Addition\"  # don't forget to give your custom layer a name to identify\r\n",
    "\r\n",
    "    # Custom function for the custom layer\r\n",
    "    def func(x, y):\r\n",
    "        return x + y\r\n",
    "\r\n",
    "    return tl.Fn(layer_name, func)\r\n",
    "\r\n",
    "\r\n",
    "# Test it\r\n",
    "add = Addition()\r\n",
    "\r\n",
    "# Inspect properties\r\n",
    "print(\"-- Properties --\")\r\n",
    "print(\"name :\", add.name)\r\n",
    "print(\"expected inputs :\", add.n_in)\r\n",
    "print(\"promised outputs :\", add.n_out, \"\\n\")\r\n",
    "\r\n",
    "# Inputs\r\n",
    "x = np.array([3])\r\n",
    "y = np.array([4])\r\n",
    "print(\"-- Inputs --\")\r\n",
    "print(\"x :\", x, \"\\n\")\r\n",
    "print(\"y :\", y, \"\\n\")\r\n",
    "\r\n",
    "# Outputs\r\n",
    "z = add((x, y))\r\n",
    "print(\"-- Outputs --\")\r\n",
    "print(\"z :\", z)"
   ],
   "outputs": [
    {
     "output_type": "error",
     "ename": "NameError",
     "evalue": "name 'tl' is not defined",
     "traceback": [
      "\u001b[1;31m---------------------------------------------------------------------------\u001b[0m",
      "\u001b[1;31mNameError\u001b[0m                                 Traceback (most recent call last)",
      "Cell \u001b[1;32mIn[2], line 12\u001b[0m\n\u001b[0;32m      8\u001b[0m     \u001b[38;5;28;01mreturn\u001b[39;00m tl\u001b[38;5;241m.\u001b[39mFn(layer_name, func)\n\u001b[0;32m     11\u001b[0m \u001b[38;5;66;03m# Test it\u001b[39;00m\n\u001b[1;32m---> 12\u001b[0m add \u001b[38;5;241m=\u001b[39m \u001b[43mAddition\u001b[49m\u001b[43m(\u001b[49m\u001b[43m)\u001b[49m\n\u001b[0;32m     14\u001b[0m \u001b[38;5;66;03m# Inspect properties\u001b[39;00m\n\u001b[0;32m     15\u001b[0m \u001b[38;5;28mprint\u001b[39m(\u001b[38;5;124m\"\u001b[39m\u001b[38;5;124m-- Properties --\u001b[39m\u001b[38;5;124m\"\u001b[39m)\n",
      "Cell \u001b[1;32mIn[2], line 8\u001b[0m, in \u001b[0;36mAddition\u001b[1;34m()\u001b[0m\n\u001b[0;32m      5\u001b[0m \u001b[38;5;28;01mdef\u001b[39;00m \u001b[38;5;21mfunc\u001b[39m(x, y):\n\u001b[0;32m      6\u001b[0m     \u001b[38;5;28;01mreturn\u001b[39;00m x \u001b[38;5;241m+\u001b[39m y\n\u001b[1;32m----> 8\u001b[0m \u001b[38;5;28;01mreturn\u001b[39;00m \u001b[43mtl\u001b[49m\u001b[38;5;241m.\u001b[39mFn(layer_name, func)\n",
      "\u001b[1;31mNameError\u001b[0m: name 'tl' is not defined"
     ]
    }
   ],
   "metadata": {}
  },
  {
   "cell_type": "markdown",
   "source": [
    "**Defining multiplication**"
   ],
   "metadata": {}
  },
  {
   "cell_type": "code",
   "execution_count": null,
   "source": [
    "def Addition():\r\n",
    "    layer_name = \"Addition\"  # don't forget to give your custom layer a name to identify\r\n",
    "\r\n",
    "    # Custom function for the custom layer\r\n",
    "    def func(x, y):\r\n",
    "        return x + y\r\n",
    "\r\n",
    "    return tl.Fn(layer_name, func)\r\n",
    "\r\n",
    "\r\n",
    "# Test it\r\n",
    "add = Addition()\r\n",
    "\r\n",
    "# Inspect properties\r\n",
    "print(\"-- Properties --\")\r\n",
    "print(\"name :\", add.name)\r\n",
    "print(\"expected inputs :\", add.n_in)\r\n",
    "print(\"promised outputs :\", add.n_out, \"\\n\")\r\n",
    "\r\n",
    "# Inputs\r\n",
    "x = np.array([3])\r\n",
    "y = np.array([4])\r\n",
    "print(\"-- Inputs --\")\r\n",
    "print(\"x :\", x, \"\\n\")\r\n",
    "print(\"y :\", y, \"\\n\")\r\n",
    "\r\n",
    "# Outputs\r\n",
    "z = add((x, y))\r\n",
    "print(\"-- Outputs --\")\r\n",
    "print(\"z :\", z)"
   ],
   "outputs": [],
   "metadata": {}
  },
  {
   "cell_type": "markdown",
   "source": [
    "**Implementing the computations using Serial combinator.**"
   ],
   "metadata": {}
  },
  {
   "cell_type": "code",
   "execution_count": null,
   "source": [
    "# Serial combinator\r\n",
    "serial = tl.Serial(\r\n",
    "    Addition(), Multiplication(), Addition()  # add 3 + 4  # multiply result by 15 and then add 3\r\n",
    ")\r\n",
    "\r\n",
    "# Initialization\r\n",
    "x = (np.array([3]), np.array([4]), np.array([15]), np.array([3]))  # input\r\n",
    "\r\n",
    "serial.init(shapes.signature(x))  # initializing serial instance\r\n",
    "\r\n",
    "\r\n",
    "print(\"-- Serial Model --\")\r\n",
    "print(serial, \"\\n\")\r\n",
    "print(\"-- Properties --\")\r\n",
    "print(\"name :\", serial.name)\r\n",
    "print(\"sublayers :\", serial.sublayers)\r\n",
    "print(\"expected inputs :\", serial.n_in)\r\n",
    "print(\"promised outputs :\", serial.n_out, \"\\n\")\r\n",
    "\r\n",
    "# Inputs\r\n",
    "print(\"-- Inputs --\")\r\n",
    "print(\"x :\", x, \"\\n\")\r\n",
    "\r\n",
    "# Outputs\r\n",
    "y = serial(x)\r\n",
    "print(\"-- Outputs --\")\r\n",
    "print(\"y :\", y)"
   ],
   "outputs": [],
   "metadata": {}
  },
  {
   "cell_type": "markdown",
   "source": [
    "The example with the two simple adition and multiplication functions that where coded together with the serial combinator show how stack semantics work in `Trax`.\r\n",
    "\r\n",
    "## 2. The tl.Select combinator in the context of the serial combinator\r\n",
    "\r\n",
    "Having understood how stack semantics work in `Trax`, we will demonstrate how the [tl.Select](https://trax-ml.readthedocs.io/en/latest/trax.layers.html?highlight=select#trax.layers.combinators.Select) combinator works.\r\n",
    "\r\n",
    "### First example of tl.Select\r\n",
    "\r\n",
    "Suppose we want to make the simple calculation (3 + 4) * 3 + 4. We can use `Select` to perform the calculations in the following manner:\r\n",
    "\r\n",
    "1. `4`\r\n",
    "2. `3`\r\n",
    "3. `tl.Select([0,1,0,1])` \r\n",
    "4. `add` \r\n",
    "5. `mul` \r\n",
    "6. `add`. \r\n",
    "\r\n",
    "The `tl.Select` requires a list or tuple of 0-based indices to select elements relative to the top of the stack. For our example, the top of the stack is `3` (which is at index 0) then `4` (index 1); remember that the rightmost element in the second column corresponds to the top of the stack. Then, we Select to add in an ordered manner to the top of the stack which after the command is `3` `4` `3` `4`. The steps of the calculation for our example are shown in the table below. As in the previous table each column shows the contents of the stack and the outputs after the operations are carried out. Remember that for `add` or `mul`, we will need to `pop` the elements to operate before making the operation. So the two `pop` operations inside the `add`/`mul` will mean that the two elements at the top of the stack will be popped and then operated on; the other elements will keep their positions in the stack. Finally, the result of the operation is pushed back to the top of the stack.\r\n",
    "\r\n",
    "\r\n",
    "<div style=\"text-align:center\" width=\"20px\"><img src=\"images/Stack2.png\" /></div>\r\n",
    "\r\n",
    "After processing all the inputs, the stack contains 25 which is the answer we get above.\r\n",
    "\r\n"
   ],
   "metadata": {}
  },
  {
   "cell_type": "code",
   "execution_count": null,
   "source": [
    "serial = tl.Serial(tl.Select([0, 1, 0, 1]), Addition(), Multiplication(), Addition())\r\n",
    "\r\n",
    "# Initialization\r\n",
    "x = (np.array([3]), np.array([4]))  # input\r\n",
    "\r\n",
    "serial.init(shapes.signature(x))  # initializing serial instance\r\n",
    "\r\n",
    "\r\n",
    "print(\"-- Serial Model --\")\r\n",
    "print(serial, \"\\n\")\r\n",
    "print(\"-- Properties --\")\r\n",
    "print(\"name :\", serial.name)\r\n",
    "print(\"sublayers :\", serial.sublayers)\r\n",
    "print(\"expected inputs :\", serial.n_in)\r\n",
    "print(\"promised outputs :\", serial.n_out, \"\\n\")\r\n",
    "\r\n",
    "# Inputs\r\n",
    "print(\"-- Inputs --\")\r\n",
    "print(\"x :\", x, \"\\n\")\r\n",
    "\r\n",
    "# Outputs\r\n",
    "y = serial(x)\r\n",
    "print(\"-- Outputs --\")\r\n",
    "print(\"y :\", y)"
   ],
   "outputs": [],
   "metadata": {}
  },
  {
   "cell_type": "markdown",
   "source": [
    "### Second example of tl.Select\r\n",
    "\r\n",
    "Suppose we want to make the simple calculation (3 + 4) * 4. We can use `Select` to perform the calculations in the following manner:\r\n",
    "\r\n",
    "1. `4`\r\n",
    "2. `3`\r\n",
    "3. `tl.Select([0,1,0,1])` \r\n",
    "4. `add` \r\n",
    "5. `tl.Select([0], n_in=2)`\r\n",
    "6. `mul`\r\n",
    "\r\n",
    "\r\n",
    "From the [documentation](https://trax-ml.readthedocs.io/en/latest/trax.layers.html#trax.layers.combinators.Select), you will see that `n_in` refers to the number of input elements to pop from the stack, and replace with those specified by the indices.\r\n",
    "\r\n",
    "The following example is a bit contrived but it demonstrates the flexibility of the command. The second `tl.Select` pops two elements (specified in `n_in`) from the stack starting from index `[0]` (i.e. top of the stack) and replaces them with the element in index `[0]`. This means that `7` (index `[0]`) and `3` (index `[1]`) will be popped out (because `n_in = 2`) but only `7` is placed back on top of the stack because it only selects element at index `[0]` to replace the popped elements. As in the previous table each column shows the contents of the stack and the outputs after the operations are carried out.\r\n",
    "\r\n",
    "<div style=\"text-align:center\" width=\"20px\"><img src=\"images/Stack3.png\" /></div>\r\n",
    "\r\n",
    "After processing all the inputs, the stack contains 28 which is the answer we get above.\r\n"
   ],
   "metadata": {}
  },
  {
   "cell_type": "code",
   "execution_count": null,
   "source": [
    "serial = tl.Serial(\r\n",
    "    tl.Select([0, 1, 0, 1]), Addition(), tl.Select([0], n_in=2), Multiplication()\r\n",
    ")\r\n",
    "\r\n",
    "# Initialization\r\n",
    "x = (np.array([3]), np.array([4]))  # input\r\n",
    "\r\n",
    "serial.init(shapes.signature(x))  # initializing serial instance\r\n",
    "\r\n",
    "\r\n",
    "print(\"-- Serial Model --\")\r\n",
    "print(serial, \"\\n\")\r\n",
    "print(\"-- Properties --\")\r\n",
    "print(\"name :\", serial.name)\r\n",
    "print(\"sublayers :\", serial.sublayers)\r\n",
    "print(\"expected inputs :\", serial.n_in)\r\n",
    "print(\"promised outputs :\", serial.n_out, \"\\n\")\r\n",
    "\r\n",
    "# Inputs\r\n",
    "print(\"-- Inputs --\")\r\n",
    "print(\"x :\", x, \"\\n\")\r\n",
    "\r\n",
    "# Outputs\r\n",
    "y = serial(x)\r\n",
    "print(\"-- Outputs --\")\r\n",
    "print(\"y :\", y)"
   ],
   "outputs": [],
   "metadata": {}
  },
  {
   "cell_type": "markdown",
   "source": [
    "**In summary, what select does in this example is make a copy of the inputs in order for them to be used further along in the stack of operations.**\r\n",
    "\r\n",
    "## 3. The tl.Residual combinator in the context of the serial combinator\r\n",
    "\r\n",
    "### tl.Residual\r\n",
    "\r\n",
    "[Residual networks](https://arxiv.org/pdf/1512.03385.pdf) are frequently used to make deep models easier to train by utilizing *skip connections*, or *shortcuts* to jump over some layers and you will be using it in the assignment as well. Trax already has a built in layer for this (`tl.Residual`). The [Residual layer](https://trax-ml.readthedocs.io/en/latest/trax.layers.html?highlight=residual#trax.layers.combinators.Residual) allows to create a *skip connection* so we can compute the element-wise *sum* of the *stack-top* input with the output of the layer series. Let's first see how it is used in the code below:"
   ],
   "metadata": {}
  },
  {
   "cell_type": "code",
   "execution_count": null,
   "source": [
    "# Let's define a Serial network\r\n",
    "serial = tl.Serial(\r\n",
    "    # Practice using Select again by duplicating the first two inputs\r\n",
    "    tl.Select([0, 1, 0, 1]),\r\n",
    "    # Place a Residual layer that skips over the Fn: Addition() layer\r\n",
    "    tl.Residual(Addition())\r\n",
    ")\r\n",
    "\r\n",
    "print(\"-- Serial Model --\")\r\n",
    "print(serial, \"\\n\")\r\n",
    "print(\"-- Properties --\")\r\n",
    "print(\"name :\", serial.name)\r\n",
    "print(\"expected inputs :\", serial.n_in)\r\n",
    "print(\"promised outputs :\", serial.n_out, \"\\n\")"
   ],
   "outputs": [],
   "metadata": {}
  },
  {
   "cell_type": "markdown",
   "source": [
    "Here, we use the Serial combinator to define our model. The inputs first go through a `Select` layer, followed by a `Residual` layer which passes the `Fn: Addition()` layer as an argument. What this means is the `Residual` layer will take the stack top input at that point and add it to the output of the `Fn: Addition()` layer. You can picture it like the diagram the below, where `x1` and `x2` are the inputs to the model:\r\n",
    "\r\n",
    "<img src=\"images/residual_example_add.png\" width=\"400\"/></div>\r\n",
    "\r\n",
    "Now, let's try running our model with some sample inputs and see the result:"
   ],
   "metadata": {}
  },
  {
   "cell_type": "code",
   "execution_count": null,
   "source": [
    "# Inputs\r\n",
    "x1 = np.array([3])\r\n",
    "x2 = np.array([4])\r\n",
    "print(\"-- Inputs --\")\r\n",
    "print(\"(x1, x2) :\", (x1, x2), \"\\n\")\r\n",
    "\r\n",
    "# Outputs\r\n",
    "y = serial((x1, x2))\r\n",
    "print(\"-- Outputs --\")\r\n",
    "print(\"y :\", y)"
   ],
   "outputs": [],
   "metadata": {}
  },
  {
   "cell_type": "markdown",
   "source": [
    "As you can see, the `Residual` layer remembers the stack top input (i.e. `3`) and adds it to the result of the `Fn: Addition()` layer (i.e. `3 + 4 = 7`). The output of `Residual(Addition()` is then `3 + 7 = 10` and is pushed onto the stack. \r\n",
    "\r\n",
    "On a different note, you'll notice that the `Select` layer has 4 outputs but the `Fn: Addition()` layer only pops 2 inputs from the stack. This means the duplicate inputs (i.e. the 2 rightmost arrows of the `Select` outputs in the figure above) remain in the stack. This is why you still see it in the output of our simple serial network (i.e. `array([3]), array([4])`). This is useful if you want to use these duplicate inputs in another layer further down the network.\r\n",
    "\r\n",
    "\r\n",
    "### Modifying the network\r\n",
    "\r\n",
    "To strengthen your understanding, you can modify the network above and examine the outputs you get. For example, you can pass the `Fn: Multiplication()` layer instead in the `Residual` block:\r\n"
   ],
   "metadata": {}
  },
  {
   "cell_type": "code",
   "execution_count": null,
   "source": [
    "# model definition\r\n",
    "serial = tl.Serial(\r\n",
    "    tl.Select([0, 1, 0, 1]), \r\n",
    "    tl.Residual(Multiplication())\r\n",
    ")\r\n",
    "\r\n",
    "print(\"-- Serial Model --\")\r\n",
    "print(serial, \"\\n\")\r\n",
    "print(\"-- Properties --\")\r\n",
    "print(\"name :\", serial.name)\r\n",
    "print(\"expected inputs :\", serial.n_in)\r\n",
    "print(\"promised outputs :\", serial.n_out, \"\\n\")"
   ],
   "outputs": [],
   "metadata": {}
  },
  {
   "cell_type": "markdown",
   "source": [
    "This means you'll have a different output that will be added to the stack top input saved by the Residual block. The diagram becomes like this:\r\n",
    "\r\n",
    "<img src=\"images/residual_example_multiply.png\" width=\"400\"/></div>\r\n",
    "\r\n"
   ],
   "metadata": {}
  },
  {
   "cell_type": "code",
   "execution_count": null,
   "source": [
    "# Inputs\r\n",
    "x1 = np.array([3])\r\n",
    "x2 = np.array([4])\r\n",
    "print(\"-- Inputs --\")\r\n",
    "print(\"(x1, x2) :\", (x1, x2), \"\\n\")\r\n",
    "\r\n",
    "# Outputs\r\n",
    "y = serial((x1, x2))\r\n",
    "print(\"-- Outputs --\")\r\n",
    "print(\"y :\", y)"
   ],
   "outputs": [],
   "metadata": {}
  },
  {
   "cell_type": "markdown",
   "source": [
    "#### Congratulations! In this lab, we described how stack semantics work with Trax layers such as Select and Residual. You will be using these in the assignment and you can go back to this lab in case you want to review its usage."
   ],
   "metadata": {}
  }
 ],
 "metadata": {
  "orig_nbformat": 4,
  "language_info": {
   "name": "python",
   "version": "3.11.4",
   "mimetype": "text/x-python",
   "codemirror_mode": {
    "name": "ipython",
    "version": 3
   },
   "pygments_lexer": "ipython3",
   "nbconvert_exporter": "python",
   "file_extension": ".py"
  },
  "kernelspec": {
   "name": "python3",
   "display_name": "Python 3.11.4 64-bit (system)"
  },
  "interpreter": {
   "hash": "ea3345c1bd84b79737a3551a8b247cc2973f5c1c2446a31ed25fabc63f8a1802"
  }
 },
 "nbformat": 4,
 "nbformat_minor": 2
}