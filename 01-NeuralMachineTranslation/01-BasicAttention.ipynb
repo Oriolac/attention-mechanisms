{
 "cells": [
  {
   "cell_type": "markdown",
   "source": [
    "# Basic Attention Operation\r\n",
    "\r\n",
    "As you've learned, attention allows a seq2seq decoder to use information from each encoder step instead of just the final encoder hidden state. In the attention operation, the encoder outputs are weighted based on the decoder hidden state, then combined into one context vector. This vector is then used as input to the decoder to predict the next output step.\r\n",
    "\r\n",
    "In this ungraded lab, you'll implement a basic attention operation as described in [Bhadanau, et al (2014)](https://arxiv.org/abs/1409.0473) using Numpy. I'll describe each of the steps which you will be coding."
   ],
   "metadata": {}
  },
  {
   "cell_type": "code",
   "execution_count": 2,
   "source": [
    "# Run this first, a bit of setup for the rest of the lab\r\n",
    "import numpy as np\r\n",
    "\r\n",
    "def softmax(x, axis=0):\r\n",
    "    \"\"\" Calculate softmax function for an array x along specified axis\r\n",
    "    \r\n",
    "        axis=0 calculates softmax across rows which means each column sums to 1 \r\n",
    "        axis=1 calculates softmax across columns which means each row sums to 1\r\n",
    "    \"\"\"\r\n",
    "    return np.exp(x) / np.expand_dims(np.sum(np.exp(x), axis=axis), axis)"
   ],
   "outputs": [],
   "metadata": {}
  },
  {
   "cell_type": "markdown",
   "source": [
    "## 1: Calculating alignment scores\r\n",
    "\r\n",
    "The first step is to calculate the alignment scores. This is a measure of similarity between the decoder hidden state and each encoder hidden state. From the paper, this operation looks like\r\n",
    "\r\n",
    "$$\r\n",
    "\\large e_{ij} = v_a^\\top \\tanh{\\left(W_a s_{i-1} + U_a h_j\\right)}\r\n",
    "$$\r\n",
    "\r\n",
    "where $W_a \\in \\mathbb{R}^{n\\times m}$, $U_a \\in \\mathbb{R}^{n \\times m}$, and $v_a \\in \\mathbb{R}^m$\r\n",
    "are the weight matrices and $n$ is the hidden state size. In practice, this is implemented as a feedforward neural network with two layers, where $m$ is the size of the layers in the alignment network. It looks something like:\r\n",
    "\r\n",
    "<p align=\"center\">\r\n",
    "  <img src=\"images\\alignment_model_3.png\" />\r\n",
    "</p>\r\n",
    "\r\n",
    "Here $h_j$ are the encoder hidden states for each input step $j$ and $s_{i - 1}$ is the decoder hidden state of the previous step. The first layer corresponds to $W_a$ and $U_a$, while the second layer corresponds to $v_a$.\r\n",
    "\r\n",
    "To implement this, first concatenate the encoder and decoder hidden states to produce an array with size $K \\times 2n$ where $K$ is the number of encoder states/steps. For this, use `np.concatenate` ([docs](https://numpy.org/doc/stable/reference/generated/numpy.concatenate.html)). Note that there is only one decoder state so you'll need to reshape it to successfully concatenate the arrays. The easiest way is to use `decoder_state.repeat` ([docs](https://numpy.org/doc/stable/reference/generated/numpy.repeat.html#numpy.repeat)) to match the hidden state array size.\r\n",
    "\r\n",
    "Then, apply the first layer as a matrix multiplication between the weights and the concatenated input. Use the tanh function to get the activations. Finally, compute the matrix multiplication of the second layer weights and the activations. This returns the alignment scores."
   ],
   "metadata": {}
  },
  {
   "cell_type": "code",
   "execution_count": 3,
   "source": [
    "hidden_size = 16\r\n",
    "attention_size = 10\r\n",
    "input_length = 5\r\n",
    "\r\n",
    "np.random.seed(42)\r\n",
    "\r\n",
    "# Synthetic vectors used to test\r\n",
    "encoder_states = np.random.randn(input_length, hidden_size)\r\n",
    "decoder_state = np.random.randn(1, hidden_size)\r\n",
    "\r\n",
    "# Weights for the neural network, these are typically learned through training\r\n",
    "# Use these in the alignment function below as the layer weights\r\n",
    "layer_1 = np.random.randn(2*hidden_size, attention_size)\r\n",
    "layer_2 = np.random.randn(attention_size, 1)\r\n",
    "\r\n",
    "# Implement this function. Replace None with your code. Solution at the bottom of the notebook\r\n",
    "def alignment(encoder_states, decoder_state):\r\n",
    "    # First, concatenate the encoder states and the decoder state\r\n",
    "    \r\n",
    "    inputs = np.concatenate([encoder_states, np.repeat(decoder_state, input_length, axis=0)], axis=1)\r\n",
    "    assert inputs.shape == (input_length, 2*hidden_size), \"{}, {}\".format(inputs.shape, (input_length, 2*hidden_size))\r\n",
    "    \r\n",
    "    # Matrix multiplication of the concatenated inputs and layer_1, with tanh activation\r\n",
    "    activations = np.tanh(inputs @ layer_1)\r\n",
    "    assert activations.shape == (input_length, attention_size)\r\n",
    "    \r\n",
    "    # Matrix multiplication of the activations with layer_2. Remember that you don't need tanh here\r\n",
    "    scores = activations @ layer_2\r\n",
    "    assert scores.shape == (input_length, 1)\r\n",
    "    \r\n",
    "    return scores"
   ],
   "outputs": [],
   "metadata": {}
  },
  {
   "cell_type": "code",
   "execution_count": 4,
   "source": [
    "# Run this to test your alignment function\r\n",
    "scores = alignment(encoder_states, decoder_state)\r\n",
    "print(scores)"
   ],
   "outputs": [
    {
     "output_type": "stream",
     "name": "stdout",
     "text": [
      "[[4.35790943]\n",
      " [5.92373433]\n",
      " [4.18673175]\n",
      " [2.11437202]\n",
      " [0.95767155]]\n"
     ]
    }
   ],
   "metadata": {}
  },
  {
   "cell_type": "markdown",
   "source": [
    "If you implemented the function correctly, you should get these scores:\r\n",
    "\r\n",
    "```python\r\n",
    "[[4.35790943]\r\n",
    " [5.92373433]\r\n",
    " [4.18673175]\r\n",
    " [2.11437202]\r\n",
    " [0.95767155]]\r\n",
    "```"
   ],
   "metadata": {}
  },
  {
   "cell_type": "markdown",
   "source": [
    "## 2: Turning alignment into weights\r\n",
    "\r\n",
    "The next step is to calculate the weights from the alignment scores. These weights determine the encoder outputs that are the most important for the decoder output. These weights should be between 0 and 1, and add up to 1. You can use the softmax function (which I've already implemented above) to get these weights from the attention scores. Pass the attention scores vector to the softmax function to get the weights. Mathematically,\r\n",
    "\r\n",
    "$$\r\n",
    "\\large \\alpha_{ij} = \\frac{\\exp{\\left(e_{ij}\\right)}}{\\sum_{k=1}^K \\exp{\\left(e_{ik}\\right)}}\r\n",
    "$$\r\n",
    "\r\n",
    "\r\n",
    "\r\n",
    "## 3: Weight the encoder output vectors and sum\r\n",
    "\r\n",
    "The weights tell you the importance of each input word with respect to the decoder state. In this step, you use the weights to modulate the magnitude of the encoder vectors. Words with little importance will be scaled down relative to important words. Multiply each encoder vector by its respective weight to get the alignment vectors, then sum up the weighted alignment vectors to get the context vector. Mathematically,\r\n",
    "\r\n",
    "$$\r\n",
    "\\large c_i = \\sum_{j=1}^K\\alpha_{ij} h_{j}\r\n",
    "$$\r\n",
    "\r\n",
    "Implement these steps in the `attention` function below."
   ],
   "metadata": {}
  },
  {
   "cell_type": "code",
   "execution_count": 7,
   "source": [
    "# Implement this function. Replace None with your code.\r\n",
    "def attention(encoder_states, decoder_state):\r\n",
    "    \"\"\" Example function that calculates attention, returns the context vector \r\n",
    "    \r\n",
    "        Arguments:\r\n",
    "        encoder_vectors: NxM numpy array, where N is the number of vectors and M is the vector length\r\n",
    "        decoder_vector: 1xM numpy array, M is the vector length, much be the same M as encoder_vectors\r\n",
    "    \"\"\" \r\n",
    "    \r\n",
    "    # First, calculate the alignment scores\r\n",
    "    scores = alignment(encoder_states, decoder_state)\r\n",
    "    \r\n",
    "    # Then take the softmax of the alignment scores to get a weight distribution\r\n",
    "    weights = np.exp(scores)/np.sum(np.exp(scores))\r\n",
    "    \r\n",
    "    # Multiply each encoder state by its respective weight\r\n",
    "    weighted_scores = weights * encoder_states\r\n",
    "    \r\n",
    "    # Sum up weighted alignment vectors to get the context vector and return it\r\n",
    "    context = np.sum(weighted_scores, axis=0)\r\n",
    "    return context\r\n",
    "\r\n",
    "context_vector = attention(encoder_states, decoder_state)\r\n",
    "print(context_vector)"
   ],
   "outputs": [
    {
     "output_type": "stream",
     "name": "stdout",
     "text": [
      "[-0.63514569  0.04917298 -0.43930867 -0.9268003   1.01903919 -0.43181409\n",
      "  0.13365099 -0.84746874 -0.37572203  0.18279832 -0.90452701  0.17872958\n",
      " -0.58015282 -0.58294027 -0.75457577  1.32985756]\n"
     ]
    }
   ],
   "metadata": {}
  },
  {
   "cell_type": "markdown",
   "source": [
    "If you implemented the `attention` function correctly, the context vector should be\r\n",
    "\r\n",
    "```python\r\n",
    "[-0.63514569  0.04917298 -0.43930867 -0.9268003   1.01903919 -0.43181409\r\n",
    "  0.13365099 -0.84746874 -0.37572203  0.18279832 -0.90452701  0.17872958\r\n",
    " -0.58015282 -0.58294027 -0.75457577  1.32985756]\r\n",
    "```\r\n",
    "\r\n"
   ],
   "metadata": {}
  }
 ],
 "metadata": {
  "orig_nbformat": 4,
  "language_info": {
   "name": "python",
   "version": "3.11.4",
   "mimetype": "text/x-python",
   "codemirror_mode": {
    "name": "ipython",
    "version": 3
   },
   "pygments_lexer": "ipython3",
   "nbconvert_exporter": "python",
   "file_extension": ".py"
  },
  "kernelspec": {
   "name": "python3",
   "display_name": "Python 3.11.4 64-bit (system)"
  },
  "interpreter": {
   "hash": "ea3345c1bd84b79737a3551a8b247cc2973f5c1c2446a31ed25fabc63f8a1802"
  }
 },
 "nbformat": 4,
 "nbformat_minor": 2
}